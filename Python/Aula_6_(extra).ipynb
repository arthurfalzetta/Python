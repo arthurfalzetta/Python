{
  "cells": [
    {
      "cell_type": "markdown",
      "metadata": {
        "id": "xsvGGMI2L4xJ"
      },
      "source": [
        "## Exercícios extras"
      ]
    },
    {
      "cell_type": "markdown",
      "metadata": {
        "id": "1dzeAG92MsqP"
      },
      "source": [
        "1. Escreva um programa que recebe um número. Verifique se o número se encontra entre 1 e 7. Se sim, exiba o valor do dia da semana correspondente."
      ]
    },
    {
      "cell_type": "code",
      "execution_count": 1,
      "metadata": {
        "id": "6HQ8XOYRL68w"
      },
      "outputs": [
        {
          "name": "stdout",
          "output_type": "stream",
          "text": [
            "Sexta\n"
          ]
        }
      ],
      "source": [
        "a = int(input('Digite o valor'))\n",
        "\n",
        "if a == 1:\n",
        "    print('Segunda')\n",
        "elif a == 2:\n",
        "    print('Terça')\n",
        "elif a == 3:\n",
        "    print('Quarta')\n",
        "elif a == 4:\n",
        "    print('Quinta')\n",
        "elif a == 5 :\n",
        "    print('Sexta')\n",
        "elif a == 6 :\n",
        "    print('Sábado')\n",
        "elif a == 7 :\n",
        "    print('Domingo')\n",
        "else:\n",
        "    print('esse valor não corresponde a um dia da semana')\n"
      ]
    },
    {
      "cell_type": "markdown",
      "metadata": {
        "id": "FdP99lWRM9b3"
      },
      "source": [
        "2. Escreva um programa que aceite uma temperatura em Fahrenheit da água, converta essa temperatura para celsius e diga o estado físico."
      ]
    },
    {
      "cell_type": "code",
      "execution_count": 6,
      "metadata": {
        "id": "j0wtgOajNSdm"
      },
      "outputs": [
        {
          "name": "stdout",
          "output_type": "stream",
          "text": [
            "gasoso -  112.22222222222223\n"
          ]
        }
      ],
      "source": [
        "temperatura_F = int(input('Digite uma temperatura em farenheit'))\n",
        "temperatura_C = (temperatura_F - 32)*(5/9)\n",
        "\n",
        "if temperatura_C < 0:\n",
        "    print('Sólido - ', temperatura_C)\n",
        "elif temperatura_C == 0:\n",
        "    print('Sólido e líquido - ', temperatura_C)\n",
        "elif temperatura_C>0 and temperatura_C<100:\n",
        "    print('Líquido - ', temperatura_C)\n",
        "elif temperatura_C==100: \n",
        "    print('Líquido e gasoso - ', temperatura_C)\n",
        "else:\n",
        "    print('gasoso - ', temperatura_C)"
      ]
    },
    {
      "cell_type": "markdown",
      "metadata": {
        "id": "j-q3piS6NS7x"
      },
      "source": [
        "3.  Uma loja oferece um desconto de 10% se o custo da quantidade comprada for superior a 1000. Peça ao usuário pela quantidade que deseja comprar. Suponha que uma unidade custe 100. Avalie e imprima o custo total para o usuário."
      ]
    },
    {
      "cell_type": "code",
      "execution_count": 9,
      "metadata": {
        "id": "a9yqC0DgNjkr"
      },
      "outputs": [
        {
          "name": "stdout",
          "output_type": "stream",
          "text": [
            "O valor a ser pago é de 1800.0 reais\n"
          ]
        }
      ],
      "source": [
        "q = int(input('Quantidade q você vai comprar'))\n",
        "custo = q * 100\n",
        "\n",
        "if custo>1000:\n",
        "    valor = custo - custo*(10/100)\n",
        "    print(f'O valor a ser pago é de {valor} reais')\n",
        "else:\n",
        "    valor_2 = custo\n",
        "    print(f'O valor a ser pago é de {valor_2} reais')"
      ]
    },
    {
      "cell_type": "markdown",
      "metadata": {
        "id": "4PFq-DoVPeVB"
      },
      "source": [
        "4.  Escreva um programa que leia três números inteiros e os imprima em ordem crescente."
      ]
    },
    {
      "cell_type": "code",
      "execution_count": 10,
      "metadata": {
        "id": "2Lto4X7iPfoJ"
      },
      "outputs": [
        {
          "name": "stdout",
          "output_type": "stream",
          "text": [
            "[15, 29, 34]\n"
          ]
        }
      ],
      "source": [
        "a = int(input('Primeiro valor'))\n",
        "b = int(input('segundo valor'))\n",
        "c = int(input('terceiro valor'))\n",
        "\n",
        "list = [a,b,c]\n",
        "\n",
        "lista_ordenada = sorted(list)\n",
        "\n",
        "print(lista_ordenada)"
      ]
    },
    {
      "cell_type": "markdown",
      "metadata": {
        "id": "hUEKrqnpZGsH"
      },
      "source": [
        "5.  Dadas as medidas de três lados de um triângulo (a, b, c), onde cada lado é um número inteiro positivo, seu programa deve determinar e imprimir se o triângulo é equilátero, isósceles ou escaleno, com base na igualdade dos lados.\n",
        "\n",
        "Um triângulo é:\n",
        "\n",
        "* Equilátero se todos os lados são iguais.\n",
        "* Isósceles se exatamente dois lados são iguais.\n",
        "* Escaleno se todos os lados são diferentes."
      ]
    },
    {
      "cell_type": "code",
      "execution_count": 16,
      "metadata": {
        "id": "ojnT4wLlZK2V"
      },
      "outputs": [
        {
          "name": "stdout",
          "output_type": "stream",
          "text": [
            "Equilátero\n"
          ]
        }
      ],
      "source": [
        "a = int(input('primeiro lado'))\n",
        "b = int(input('segundo lado'))\n",
        "c = int(input('terceiro lado'))\n",
        "\n",
        "if a == b == c:\n",
        "    print('Equilátero')\n",
        "elif a == b != c :\n",
        "    print('Isòsceles')\n",
        "elif b == c != a :\n",
        "    print('Isòsceles')\n",
        "elif c == a != b :\n",
        "    print('Isòsceles')\n",
        "else:\n",
        "    print(\"Escaleno\")"
      ]
    },
    {
      "cell_type": "markdown",
      "metadata": {
        "id": "1U7KgS0gZLEB"
      },
      "source": [
        "6.  Escreva um programa que leia três números naturais e verifica se eles formam os lados de um triângulo retângulo."
      ]
    },
    {
      "cell_type": "code",
      "execution_count": 20,
      "metadata": {
        "id": "YdilMnigZNAw"
      },
      "outputs": [
        {
          "name": "stdout",
          "output_type": "stream",
          "text": [
            "É um triângulo retângulo\n"
          ]
        }
      ],
      "source": [
        "a = int(input('primeiro lado'))\n",
        "b = int(input('segundo valor'))\n",
        "c = int(input('terceiro valor'))\n",
        "\n",
        "if a**2 == (b**2)+(c**2):\n",
        "    print('É um triângulo retângulo')\n",
        "elif b**2 == (a**2)+(c**2):\n",
        "    print('É um triângulo retângulo')\n",
        "elif c**2 == (b**2)+(a**2):\n",
        "    print('É um triângulo retângulo')\n",
        "else:\n",
        "    print('Esses valoresnão correspondem a um triângulo retângulo')"
      ]
    },
    {
      "cell_type": "markdown",
      "metadata": {
        "id": "Zqt2c5DnNwzV"
      },
      "source": [
        "## Avançados"
      ]
    },
    {
      "cell_type": "markdown",
      "metadata": {
        "id": "qU5MjWhfN2dc"
      },
      "source": [
        "Estes exercícios envolvem outros comandos de python, como loops."
      ]
    },
    {
      "cell_type": "markdown",
      "metadata": {
        "id": "Ph1wGw6KNySy"
      },
      "source": [
        "1.  Escreva um programa que checa se um número é primo ou não."
      ]
    },
    {
      "cell_type": "code",
      "execution_count": 26,
      "metadata": {
        "id": "_WXxhIfANxyx"
      },
      "outputs": [
        {
          "name": "stdout",
          "output_type": "stream",
          "text": [
            "10 é um número primo\n"
          ]
        }
      ],
      "source": []
    },
    {
      "cell_type": "markdown",
      "metadata": {
        "id": "elOqXHOIOawB"
      },
      "source": [
        "2.  Dados um número inteiro n, n > 0, e uma sequência com n números inteiros, determinar quantos números da sequência são pares e quantos são ímpares. Por exemplo, para a sequência  [6   -2   7   0  -5   8  4]  o seu programa deve escrever o número 4 para o número de pares e 2 para o de ímpares."
      ]
    },
    {
      "cell_type": "code",
      "execution_count": null,
      "metadata": {
        "id": "aGXYsxGAObuS"
      },
      "outputs": [],
      "source": []
    },
    {
      "cell_type": "markdown",
      "metadata": {
        "id": "rvYQjOSdOPgs"
      },
      "source": [
        "3.  Dizemos que um número inteiro positivo é triangular se ele é o produto de três numeros inteiros consecutivos. Por exemplo, 120 é triangular, pois (4 x 5 x 6) = 120. Dado um número inteiro positivo n, verificar se n é triangular."
      ]
    },
    {
      "cell_type": "code",
      "execution_count": null,
      "metadata": {
        "id": "SYEqLZACOWlb"
      },
      "outputs": [],
      "source": []
    }
  ],
  "metadata": {
    "colab": {
      "provenance": []
    },
    "kernelspec": {
      "display_name": "Python 3",
      "name": "python3"
    },
    "language_info": {
      "codemirror_mode": {
        "name": "ipython",
        "version": 3
      },
      "file_extension": ".py",
      "mimetype": "text/x-python",
      "name": "python",
      "nbconvert_exporter": "python",
      "pygments_lexer": "ipython3",
      "version": "3.10.5"
    }
  },
  "nbformat": 4,
  "nbformat_minor": 0
}
