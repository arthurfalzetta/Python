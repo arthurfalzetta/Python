{
  "cells": [
    {
      "cell_type": "markdown",
      "metadata": {
        "id": "qrkwk7yqOesh"
      },
      "source": [
        "#**Exercício 06**\n",
        "\n",
        "\n",
        "Desenvolva um programa Python que leia o comprimento de três linhas. O programa deve então determinar se, com essas medidas, é possível formar um triângulo. Se for possível, o programa deve indicar que tipo de triângulo será formado:\n",
        "\n",
        "* Equilátero: Todos os lados são iguais.\n",
        "* Isósceles: Dois lados são iguais.\n",
        "* Escaleno: Todos os lados são diferentes.\n",
        "\n",
        "Lembre-se de que, para formar um triângulo, a medida de qualquer um dos lados deve ser menor que a soma das medidas dos outros dois lados."
      ]
    },
    {
      "cell_type": "code",
      "execution_count": 3,
      "metadata": {
        "id": "fLJ-bqhpOuMv"
      },
      "outputs": [
        {
          "name": "stdout",
          "output_type": "stream",
          "text": [
            "Isósceles\n"
          ]
        }
      ],
      "source": [
        "a = int(input(\"Insira o primeiro lado\"))\n",
        "b = int(input(\"Insira o segundo lado\"))\n",
        "c = int(input(\"Insira o terceiro lado\"))\n",
        "\n",
        "if a + b > c and a + c > b and b + c > a :\n",
        "    if a == b == c:\n",
        "        print(\"Equilátero\")\n",
        "    elif a == b != c or a == c != b or c == b != a :\n",
        "        print(\"Isósceles\")\n",
        "    elif a != b != c :\n",
        "        print(\"Escaleno\")\n",
        "else:\n",
        "    print(\"Não é um triângulo\")"
      ]
    },
    {
      "cell_type": "markdown",
      "metadata": {
        "id": "0gLz2BC3QWYU"
      },
      "source": [
        "#**Exercício 07**\n",
        "\n",
        "\n",
        "Uma cidade cobra a tarifa de táxi baseando-se na distância percorrida. Até 5 km, a tarifa é de R\\$ 4,00 por km. De 5 a 10 km, a tarifa é de R\\$ 3,50 por km. Acima de 10 km, a tarifa cai para R\\$ 3,00 por km. Há também uma taxa fixa de embarque de R\\$ 5,00 para qualquer corrida. Escreva um programa Python que calcule e mostre o valor total da corrida com base na distância percorrida."
      ]
    },
    {
      "cell_type": "code",
      "execution_count": 9,
      "metadata": {
        "id": "E1vV8EzEQeYT"
      },
      "outputs": [
        {
          "name": "stdout",
          "output_type": "stream",
          "text": [
            "O valor a ser pago é de 57.5R$\n"
          ]
        }
      ],
      "source": [
        "distancia = float(input(\"Insira a distância percorrida em km\"))\n",
        "\n",
        "if distancia <= 5 :\n",
        "    preco = distancia * 4 + 5\n",
        "elif 5< distancia <=10:\n",
        "    preco = 25 + 3.5*(distancia - 5)\n",
        "elif 10 < distancia :\n",
        "    preco = 42.5 + 3*(distancia - 10)\n",
        "\n",
        "print(f'O valor a ser pago é de {preco}R$')"
      ]
    }
  ],
  "metadata": {
    "colab": {
      "provenance": []
    },
    "kernelspec": {
      "display_name": "Python 3",
      "name": "python3"
    },
    "language_info": {
      "codemirror_mode": {
        "name": "ipython",
        "version": 3
      },
      "file_extension": ".py",
      "mimetype": "text/x-python",
      "name": "python",
      "nbconvert_exporter": "python",
      "pygments_lexer": "ipython3",
      "version": "3.10.5"
    }
  },
  "nbformat": 4,
  "nbformat_minor": 0
}
