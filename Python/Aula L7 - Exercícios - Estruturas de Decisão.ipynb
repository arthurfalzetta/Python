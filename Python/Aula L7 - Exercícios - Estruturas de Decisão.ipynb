{
  "cells": [
    {
      "cell_type": "markdown",
      "metadata": {
        "id": "oNAE5ZPfjt3g"
      },
      "source": [
        "#**TTI103 - Lógica de Programação**\n",
        "\n",
        "#**Aula L7 - Estruturas de Decisão**"
      ]
    },
    {
      "cell_type": "markdown",
      "metadata": {
        "id": "yHnnxSvFrggG"
      },
      "source": [
        "#**Exercício 01**\n",
        "\n",
        "Escreva um programa Python que recebe um ano de nosso calendário gregoriano $[1]$ no formato $YYYY$ e decida se o ano é bissexto ou não.\n",
        "\n",
        "*ALGORITMO:* Para determinar se um ano é bissexto, execute estas etapas:\n",
        "\n",
        "(1) Se o ano for uniformemente divisível por 4, vá para a etapa 2. Caso contrário, vá para a etapa 5.\n",
        "\n",
        "(2) Se o ano for uniformemente divisível por 100, vá para a etapa 3. Caso contrário, vá para a etapa 4.\n",
        "\n",
        "(3) Se o ano for uniformemente divisível por 400, vá para a etapa 4. Caso contrário, vá para a etapa 5.\n",
        "\n",
        "(4) O ano é bissexto (tem 366 dias).\n",
        "\n",
        "(5) O ano não é um ano bissexto (tem 365 dias).\n",
        "\n",
        "$[1]$ Calendário criado em 1582 pelo Papa Gregório XIII (1502 – 1585) — daí o nome “gregoriano”."
      ]
    },
    {
      "cell_type": "code",
      "execution_count": 2,
      "metadata": {
        "id": "B2F61JDO50FU"
      },
      "outputs": [
        {
          "name": "stdout",
          "output_type": "stream",
          "text": [
            "O ano não é bissexto\n"
          ]
        }
      ],
      "source": [
        "# Exercício 01\n",
        "ano = int(input(\"Escolha um ano\"))\n",
        "\n",
        "if ano % 4 == 0:\n",
        "    if ano % 100 == 0:\n",
        "        if ano % 400 == 0:\n",
        "            print(\"O ano é bissexto\")\n",
        "        else :\n",
        "            print(\"O ano não é bissexto\")\n",
        "    else :\n",
        "        print(\"O ano é bissexto\")\n",
        "else :\n",
        "    print(\"O ano não é bissexto\")"
      ]
    },
    {
      "cell_type": "markdown",
      "metadata": {
        "id": "SXv1755C53CU"
      },
      "source": [
        "#**Exercício 02**\n",
        "\n",
        "Escreva um programa Python que determine o estágio de vida de uma pessoa, a partir de sua idade:\n",
        "\n",
        "* Se a pessoa tiver menos de 2 anos, imprima uma mensagem informando que a pessoa é um bebê.\n",
        "* Se a pessoa tiver pelo menos 2 anos, mas menos de 4, imprima uma mensagem informando que a\n",
        "pessoa é uma criança de colo.\n",
        "* Se a pessoa tiver pelo menos 4 anos, mas menos de 13, imprima uma mensagem informando que\n",
        "a pessoa é uma criança.\n",
        "* Se a pessoa tiver pelo menos 13 anos, mas menos de 20, imprima uma mensagem dizendo que\n",
        "a pessoa é um adolescente.\n",
        "* Se a pessoa tiver pelo menos 20 anos, mas menos de 65, imprima uma mensagem que\n",
        "dizendo que a pessoa é adulta.\n",
        "* Se a pessoa tiver 65 anos ou mais, imprima uma mensagem informando que a pessoa é idosa."
      ]
    },
    {
      "cell_type": "code",
      "execution_count": 5,
      "metadata": {
        "id": "KSFlFxMY9NhO"
      },
      "outputs": [
        {
          "name": "stdout",
          "output_type": "stream",
          "text": [
            "Você é um idoso\n"
          ]
        }
      ],
      "source": [
        "# Exercício 02\n",
        "idade = int(input(\"Insira sua idade\"))\n",
        "\n",
        "if idade < 2 :\n",
        "    print(\"Você é um bebê\")\n",
        "elif 2 <= idade < 4 :\n",
        "    print(\"Você é uma criança de colo\")\n",
        "elif 4 <= idade < 13 :\n",
        "    print(\"Você é uma criança\")\n",
        "elif 13 <= idade < 20 :\n",
        "    print(\"Você é um adolescente\") \n",
        "elif 20 <= idade < 65:\n",
        "    print(\"Você é um adulto\")\n",
        "else:\n",
        "    print(\"Você é um idoso\")"
      ]
    },
    {
      "cell_type": "markdown",
      "metadata": {
        "id": "aBnaN_mb9Pst"
      },
      "source": [
        "#**Exercício 03**\n",
        "\n",
        "Escreva um programa Python que recebe um único carácter como entrada e decide se esse carácter é uma letra maiúscula, uma letra minúscula, um algarismo decimal ou um carácter especial.\n",
        "\n",
        "Na codificação ASCII:\n",
        "* As letras maiúsculas de 'A' a 'Z' são codificadas pelos decimais 65 a 90;\n",
        "* As letras minúsculas de 'a' a 'z' são codificadas pelos decimais 97 a 122;\n",
        "* Os algarismos decimais são codificados pelos decimais 48 a 57;\n",
        "* Os decimais de 0 a 255, com exceção daqueles mencionados acima, codificam caracteres especiais.\n",
        "\n",
        "*IMPORTANTE:* Para checar a codificação ASCII da variável `caracter`que contém um único carácter, use o comando ` ord`. Veja um exemplo:\n",
        "\n",
        "`caracter = A`\n",
        "\n",
        "`decimal = ord(caracter)`\n",
        "\n",
        "`print(decimal)`\n",
        "\n",
        "`65`"
      ]
    },
    {
      "cell_type": "code",
      "execution_count": 10,
      "metadata": {
        "id": "FtvHlRliAzi2"
      },
      "outputs": [
        {
          "name": "stdout",
          "output_type": "stream",
          "text": [
            "É um caracter especial\n"
          ]
        }
      ],
      "source": [
        "# Exercício 03\n",
        "caracter = str(input(\"Escreva um carácter\"))\n",
        "\n",
        "decimal = ord(caracter)\n",
        "\n",
        "if 65<= decimal <= 90:\n",
        "    print(\"É uma letra maiúscula\")\n",
        "elif 97<= decimal <=122 :\n",
        "    print(\"É uma letra minúscula\")\n",
        "elif 48<= decimal <=57 :\n",
        "    print(\"É um decimal\")\n",
        "else :\n",
        "    print(\"É um caracter especial\")"
      ]
    },
    {
      "cell_type": "markdown",
      "metadata": {
        "id": "_ZgQVyrNA2AG"
      },
      "source": [
        "#**Exercício 04**\n",
        "\n",
        "Um vendedor fornece três tipos de brinquedos:\n",
        "\n",
        "(1) brinquedos que usam baterias;\n",
        "\n",
        "(2) brinquedos que usam pilhas;\n",
        "\n",
        "(3) brinquedos com baterias recarregáveis.\n",
        "\n",
        "O vendedor dá um desconto de 10% em pedidos de brinquedos à bateria, se o pedido for superior a $R\\$\\,1000,00$.\n",
        "\n",
        "Em pedidos superiores a $R\\$\\,100,00$ para brinquedos à pilha, é concedido um desconto de 5%.\n",
        "\n",
        "Um desconto de 10% é concedido em pedidos de brinquedos com baterias recarregáveis, caso o valor seja superior a $R\\$\\,500,00$.\n",
        "\n",
        "Suponha que os códigos numéricos 1, 2 e 3 sejam usados para designar brinquedos à bateria, à pilha e à baterias recarregáveis, respectivamente. Escreva um programa Python que leia o código do produto e o valor do pedido. A seguir, calcule e imprima o valor líquido que o cliente deverá pagar após o desconto, se houver."
      ]
    },
    {
      "cell_type": "code",
      "execution_count": 12,
      "metadata": {
        "id": "ToW3uB9rDaev"
      },
      "outputs": [
        {
          "name": "stdout",
          "output_type": "stream",
          "text": [
            "O valor da sua compra é de 142.5 reais\n"
          ]
        }
      ],
      "source": [
        "# Exercício 04\n",
        "codigo = int(input(\"Insira o código do produto\"))\n",
        "valor = int(input(\"Insira o valor do seu produto\"))\n",
        "\n",
        "if codigo == 1:\n",
        "    if valor > 1000:\n",
        "        valor_final = valor * 0.9\n",
        "        print(f'O valor da sua compra é de {valor_final:.2f} reais')\n",
        "    else:\n",
        "        print(f'O valor da sua compra é de {valor} reais')\n",
        "elif codigo ==2:\n",
        "    if valor > 100 :\n",
        "        valor_final = valor * 0.95\n",
        "        print(f'O valor da sua compra é de {valor_final} reais')\n",
        "    else:\n",
        "         print(f'O valor da sua compra é de {valor} reais')\n",
        "elif codigo == 3:\n",
        "    if valor > 500:\n",
        "        valor_final = valor * 0.9\n",
        "        print(f'O valor da sua compra é de {valor_final:.2f} reais')\n",
        "    else:\n",
        "        print(f'O valor da sua compra é de {valor} reais')"
      ]
    },
    {
      "cell_type": "markdown",
      "metadata": {
        "id": "cnPtnkZADwi_"
      },
      "source": [
        "#**Exercício 05**\n",
        "\n",
        "\n",
        "A concessionária *Paschim Gujarat Vij Company Ltd.* calcula o valor da conta de eletricidade segundo o esquema abaixo:\n",
        "\n",
        "* 0-100 unidades consumidas: $\\$\\,0,50$ por unidade;\n",
        "* 101-200 unidades consumidas: $\\$\\,50$ mais $\\$\\,1$ por unidade acima de 100 unidades;\n",
        "* 201-300 unidades consumidas: $\\$\\,150$ mais $\\$\\,1,50$ por unidade acima de 200 unidades;\n",
        "* Mais de 300 unidades consumidas: $\\$\\,300$ mais $\\$\\,2$ por unidade acima de 300 unidades.\n",
        "\n",
        "Escreva um programa Python que leia o valor passado do medidor (penúltima medição, 30 dias atrás) e o valor atual (última medição, hoje) e, a partir dessas informações, calcule o número de unidades consumidas e o valor da conta de eletricidade do mês."
      ]
    },
    {
      "cell_type": "code",
      "execution_count": 13,
      "metadata": {
        "id": "dSNjB9Q0GTnY"
      },
      "outputs": [
        {
          "name": "stdout",
          "output_type": "stream",
          "text": [
            "O valor a ser pago é de 150 reais\n"
          ]
        }
      ],
      "source": [
        "# Exercício 05\n",
        "valor_passado = int(input(\"Insira o valor passado do seu medidor\"))\n",
        "valor_atual = int(input(\"Insira o valor atual do seu medidor\"))\n",
        "\n",
        "valor = valor_atual - valor_passado\n",
        "\n",
        "if valor <= 100:\n",
        "    preco = valor*0.5\n",
        "elif 101<= valor <=200 :\n",
        "    preco = 50 + (valor - 100)\n",
        "elif 201<= valor <= 300 :\n",
        "    preco = 150 + 1.5*(valor - 200)\n",
        "else:\n",
        "    preco = 300 + 2*(valor - 300)\n",
        "\n",
        "print(f'O valor a ser pago é de {preco} reais')"
      ]
    }
  ],
  "metadata": {
    "colab": {
      "provenance": []
    },
    "kernelspec": {
      "display_name": "Python 3",
      "name": "python3"
    },
    "language_info": {
      "codemirror_mode": {
        "name": "ipython",
        "version": 3
      },
      "file_extension": ".py",
      "mimetype": "text/x-python",
      "name": "python",
      "nbconvert_exporter": "python",
      "pygments_lexer": "ipython3",
      "version": "3.10.5"
    }
  },
  "nbformat": 4,
  "nbformat_minor": 0
}
